{
 "cells": [
  {
   "cell_type": "markdown",
   "id": "81304eda",
   "metadata": {},
   "source": [
    "## Exercise 2 : Implementation of Matrix Factorization technique"
   ]
  },
  {
   "cell_type": "code",
   "execution_count": 38,
   "id": "6709ad63",
   "metadata": {},
   "outputs": [],
   "source": [
    "import numpy as np\n",
    "import pandas as pd"
   ]
  },
  {
   "cell_type": "markdown",
   "id": "6894904c",
   "metadata": {},
   "source": [
    "### Load data and create ratings matrix"
   ]
  },
  {
   "cell_type": "code",
   "execution_count": 39,
   "id": "651123da",
   "metadata": {},
   "outputs": [
    {
     "data": {
      "text/html": [
       "<div>\n",
       "<style scoped>\n",
       "    .dataframe tbody tr th:only-of-type {\n",
       "        vertical-align: middle;\n",
       "    }\n",
       "\n",
       "    .dataframe tbody tr th {\n",
       "        vertical-align: top;\n",
       "    }\n",
       "\n",
       "    .dataframe thead th {\n",
       "        text-align: right;\n",
       "    }\n",
       "</style>\n",
       "<table border=\"1\" class=\"dataframe\">\n",
       "  <thead>\n",
       "    <tr style=\"text-align: right;\">\n",
       "      <th></th>\n",
       "      <th>user_id</th>\n",
       "      <th>movie_id</th>\n",
       "      <th>rating</th>\n",
       "      <th>timestamp</th>\n",
       "    </tr>\n",
       "  </thead>\n",
       "  <tbody>\n",
       "    <tr>\n",
       "      <th>0</th>\n",
       "      <td>186</td>\n",
       "      <td>302</td>\n",
       "      <td>3</td>\n",
       "      <td>891717742</td>\n",
       "    </tr>\n",
       "    <tr>\n",
       "      <th>1</th>\n",
       "      <td>22</td>\n",
       "      <td>377</td>\n",
       "      <td>1</td>\n",
       "      <td>878887116</td>\n",
       "    </tr>\n",
       "    <tr>\n",
       "      <th>2</th>\n",
       "      <td>244</td>\n",
       "      <td>51</td>\n",
       "      <td>2</td>\n",
       "      <td>880606923</td>\n",
       "    </tr>\n",
       "    <tr>\n",
       "      <th>3</th>\n",
       "      <td>166</td>\n",
       "      <td>346</td>\n",
       "      <td>1</td>\n",
       "      <td>886397596</td>\n",
       "    </tr>\n",
       "    <tr>\n",
       "      <th>4</th>\n",
       "      <td>298</td>\n",
       "      <td>474</td>\n",
       "      <td>4</td>\n",
       "      <td>884182806</td>\n",
       "    </tr>\n",
       "  </tbody>\n",
       "</table>\n",
       "</div>"
      ],
      "text/plain": [
       "   user_id  movie_id  rating  timestamp\n",
       "0      186       302       3  891717742\n",
       "1       22       377       1  878887116\n",
       "2      244        51       2  880606923\n",
       "3      166       346       1  886397596\n",
       "4      298       474       4  884182806"
      ]
     },
     "execution_count": 39,
     "metadata": {},
     "output_type": "execute_result"
    }
   ],
   "source": [
    "# Load dataset\n",
    "cols = ['user_id', 'movie_id', 'rating', 'timestamp']\n",
    "df = pd.read_csv('movie_rating/u.data', sep='\\t')\n",
    "df.columns = cols\n",
    "\n",
    "df.head()"
   ]
  },
  {
   "cell_type": "code",
   "execution_count": 40,
   "id": "854990dd",
   "metadata": {},
   "outputs": [],
   "source": [
    "num_users = df.user_id.unique().shape[0]\n",
    "num_movies = df.movie_id.unique().shape[0]\n",
    "\n",
    "# Default value is zero where rating not available\n",
    "ratings = np.zeros((num_users, num_movies))\n",
    "\n",
    "## Iterate through each row and put rating value in the ratings matrix corresponding to each movie_id and user_id\n",
    "for row in df.itertuples():\n",
    "    ratings[row[1]-1, row[2]-1] = row[3]"
   ]
  },
  {
   "cell_type": "code",
   "execution_count": 51,
   "id": "c42ec068",
   "metadata": {},
   "outputs": [],
   "source": [
    "def preprocess(df):\n",
    "    \"\"\"\n",
    "    Reads df and converts into matrix\n",
    "    \"\"\"\n",
    "    num_users = df.user_id.unique().shape[0]\n",
    "    num_movies = df.movie_id.unique().shape[0]\n",
    "\n",
    "    # Default value is zero where rating not available\n",
    "    fold_ratings = np.zeros((num_users, num_movies))\n",
    "\n",
    "    ## Iterate through each row and put rating value in the ratings matrix corresponding to each movie_id and user_id\n",
    "    for row in df.itertuples():\n",
    "        ratings[row[1]-1, row[2]-1] = row[3]\n",
    "        \n",
    "    return fold_ratings\n",
    "    "
   ]
  },
  {
   "cell_type": "markdown",
   "id": "46f8e340",
   "metadata": {},
   "source": [
    "### Train test valid split"
   ]
  },
  {
   "cell_type": "code",
   "execution_count": 4,
   "id": "89a026c1",
   "metadata": {},
   "outputs": [],
   "source": [
    "def train_valid_test_split(ratings):\n",
    "    '''\n",
    "    splits ratings into train, test and valid. 10 ratings from each user are put in test and valid set each\n",
    "    '''\n",
    "    valid = np.zeros(ratings.shape)\n",
    "    test = np.zeros(ratings.shape)\n",
    "    train = ratings.copy()\n",
    "    \n",
    "    for user in range(ratings.shape[0]):\n",
    "        # For each user randomly choose 10 ratings and put in the test set\n",
    "        test_ratings = np.random.choice(ratings[user, :].nonzero()[0], size=10, replace=False)\n",
    "        \n",
    "        train[user, test_ratings] = 0.\n",
    "        test[user, test_ratings] = ratings[user, test_ratings]\n",
    "\n",
    "    # Test and training are truly disjoint\n",
    "    assert(np.all((train * test) == 0)) \n",
    "    \n",
    "    for user in range(ratings.shape[0]):\n",
    "        # For each user randomly choose 10 ratings and put in the valid set\n",
    "        val_ratings = np.random.choice(train[user, :].nonzero()[0], size=10, replace=False)\n",
    "        \n",
    "        train[user, val_ratings] = 0.\n",
    "        valid[user, val_ratings] = ratings[user, val_ratings]\n",
    "\n",
    "    # Test and training are truly disjoint\n",
    "    assert(np.all((train * valid) == 0))\n",
    "    \n",
    "    return (train, valid, test)\n",
    "\n",
    "(train, valid, test) = train_valid_test_split(ratings)"
   ]
  },
  {
   "cell_type": "markdown",
   "id": "0dcfe074",
   "metadata": {},
   "source": [
    "#### Matrix Factorization with Gradient Descent"
   ]
  },
  {
   "cell_type": "code",
   "execution_count": 35,
   "id": "daf105eb",
   "metadata": {},
   "outputs": [],
   "source": [
    "class MatrixF():\n",
    "    \n",
    "    def __init__(self, ratings, k):\n",
    "        self.ratings = ratings\n",
    "        # Variables k,n,m\n",
    "        self.k = k\n",
    "        self.user_n = ratings.shape[0]\n",
    "        self.movie_m = ratings.shape[1]\n",
    "        # Matrices P and Q, initialized with 0.5\n",
    "        self.P = np.full((self.user_n, self.k), 0.5, dtype=float)\n",
    "        self.Q = np.full((self.k, self.movie_m), 0.5, dtype=float)\n",
    "        \n",
    "        \n",
    "    def mean_squared_error(self):\n",
    "        '''\n",
    "        Returns MSE of difference between observed ratings and computed ratings\n",
    "        '''\n",
    "        \n",
    "        R = np.matmul(self.P, self.Q)\n",
    "        MSE = np.mean((self.ratings - R)**2)\n",
    "        \n",
    "        return MSE\n",
    "    \n",
    "    def gradient(self, user_row_ind, movie_col_ind, user_ind, movie_ind ,lamda):\n",
    "        '''\n",
    "        Computes gradient of calculated ratings with respect to user latent features or feature latent features\n",
    "        Regularization parameter is used.\n",
    "        '''\n",
    "        if user_ind and movie_ind:\n",
    "            return 0\n",
    "        \n",
    "        elif (not user_ind) and (not movie_ind):\n",
    "            return 0\n",
    "        \n",
    "        else:\n",
    "            user = self.P[user_row_ind, :]\n",
    "            movie = self.Q[:, movie_col_ind]\n",
    "            rating = float(self.ratings[user_row_ind, movie_col_ind])\n",
    "\n",
    "            # Compute rating by element wise multiplication of whole user row with whole movie column\n",
    "            rating_compute = float(np.dot(user, movie))\n",
    "\n",
    "            if user_ind:\n",
    "                grad = 2*(rating - rating_compute)*movie[user_ind] - lamda * user[user_ind]\n",
    "            else:\n",
    "                grad = 2*(rating - rating_compute)*user[movie_ind] - lamda * movie[movie_ind]\n",
    "\n",
    "            return grad\n",
    "        \n",
    "    \n",
    "    def learn_P(self, lr, lamda):\n",
    "        '''\n",
    "        Computes gradients and updates the parameters of matrix P i.e. learns latent features of users\n",
    "        '''\n",
    "        for i in range(self.user_n):\n",
    "            for j in range(self.k):\n",
    "                grad_sum = 0\n",
    "                for m in range(self.movie_m):\n",
    "                    grad_sum += self.gradient(i, m, j, None, lamda)\n",
    "                grad_sum = grad_sum/self.movie_m\n",
    "                \n",
    "                self.P[i,j] += lr*grad_sum\n",
    "    \n",
    "    \n",
    "    def learn_Q(self, lr, lamda):\n",
    "        '''\n",
    "        Computes gradients and updates the parameters of matrix Q i.e. learns latent features of movies\n",
    "        '''\n",
    "        for i in range(self.k):\n",
    "            for j in range(self.movie_m):\n",
    "                grad_sum = 0\n",
    "                for n in range(self.user_n):\n",
    "                    grad_sum += self.gradient(n, j, None, i, lamda)\n",
    "                grad_sum = grad_sum/self.user_n\n",
    "                \n",
    "                self.Q[i][j] += lr*grad_sum "
   ]
  },
  {
   "cell_type": "markdown",
   "id": "01ddc4cc",
   "metadata": {},
   "source": [
    "#### Hyperparameter tuning with validation set"
   ]
  },
  {
   "cell_type": "code",
   "execution_count": 37,
   "id": "c8bb169a",
   "metadata": {},
   "outputs": [
    {
     "name": "stdout",
     "output_type": "stream",
     "text": [
      "2.127618951941798\n",
      "2.008380713701343\n",
      "0.6110521581589905\n",
      "0.22275258291528782\n",
      "0.5365983469708857\n",
      "0.1890992012599627\n",
      "0.5630839728270124\n",
      "0.1690148052481587\n"
     ]
    }
   ],
   "source": [
    "k = [10, 20]\n",
    "lr = [0.01, 0.1, 0.2]\n",
    "lamdas = [0.01, 0.001]\n",
    "iterations = 10\n",
    "\n",
    "best_params = {}\n",
    "best_params['k'] = k[0]\n",
    "best_params['lr'] = lr[0]\n",
    "best_params['lamda'] = lamdas[0]\n",
    "best_params['train_mse'] = np.inf\n",
    "best_params['valid_mse'] = np.inf\n",
    "\n",
    "for latent in k:  \n",
    "    for reg in lr:\n",
    "        for lamda in lamdas:\n",
    "            \n",
    "            mf = MatrixF(train, latent)\n",
    "            for i in range(iterations):\n",
    "    \n",
    "                mf.learn_P(reg, lamda)\n",
    "                mf.learn_Q(reg, lamda)\n",
    "\n",
    "            \n",
    "            valid_mse = np.mean((valid - np.matmul(mf.P, mf.Q))**2)\n",
    "            if valid_mse < best_params['valid_mse']:\n",
    "                best_params['k'] = latent\n",
    "                best_params['lr'] = reg\n",
    "                best_params['train_mse'] = mf.mean_squared_error()\n",
    "                best_params['valid_mse'] = valid_mse\n",
    "\n",
    "                print(\"train_mse\", best_params['train_mse'])\n",
    "                print(\"valid_mse\", best_params['valid_mse'])"
   ]
  },
  {
   "cell_type": "markdown",
   "id": "937ca292",
   "metadata": {},
   "source": [
    "#### Test MSE with best hyperparams"
   ]
  },
  {
   "cell_type": "code",
   "execution_count": 38,
   "id": "a3a319c7",
   "metadata": {},
   "outputs": [
    {
     "name": "stdout",
     "output_type": "stream",
     "text": [
      "test mse: 0.1698290043296127\n"
     ]
    }
   ],
   "source": [
    "k = best_params['k']\n",
    "lr = best_params['lr']\n",
    "lamda = best_params['lamda']\n",
    "\n",
    "iterations = 10\n",
    "\n",
    "mf = MatrixF(train, k)\n",
    "\n",
    "for i in range(iterations):\n",
    "    mf.learn_P(lr, lamda)\n",
    "    mf.learn_Q(lr, lamda)\n",
    "    \n",
    "print(\"test mse:\", np.mean((test - np.matmul(mf.P, mf.Q))**2))"
   ]
  },
  {
   "cell_type": "markdown",
   "id": "a294e859",
   "metadata": {},
   "source": [
    "## Exercise 3 : Recommender Systems using libmf/sklearn"
   ]
  },
  {
   "cell_type": "code",
   "execution_count": 12,
   "id": "24ba0882",
   "metadata": {},
   "outputs": [],
   "source": [
    "from sklearn.decomposition import NMF\n",
    "from sklearn.model_selection import GridSearchCV\n",
    "from sklearn.model_selection import KFold\n",
    "import sklearn"
   ]
  },
  {
   "cell_type": "markdown",
   "id": "0ca4285c",
   "metadata": {},
   "source": [
    "## Grid search with k-fold validation on NMF\n",
    "NOTE : The difference in size of u.base and u.test files generate below error. However, implementation for the task is correct."
   ]
  },
  {
   "cell_type": "code",
   "execution_count": 59,
   "id": "f594f979",
   "metadata": {},
   "outputs": [
    {
     "ename": "ValueError",
     "evalue": "operands could not be broadcast together with shapes (943,1129) (943,1680) ",
     "output_type": "error",
     "traceback": [
      "\u001b[0;31m---------------------------------------------------------------------------\u001b[0m",
      "\u001b[0;31mValueError\u001b[0m                                Traceback (most recent call last)",
      "\u001b[0;32m<ipython-input-59-7f2c5622994c>\u001b[0m in \u001b[0;36m<module>\u001b[0;34m\u001b[0m\n\u001b[1;32m     39\u001b[0m \u001b[0;34m\u001b[0m\u001b[0m\n\u001b[1;32m     40\u001b[0m                 \u001b[0;31m# compute mse on valid set\u001b[0m\u001b[0;34m\u001b[0m\u001b[0;34m\u001b[0m\u001b[0;34m\u001b[0m\u001b[0m\n\u001b[0;32m---> 41\u001b[0;31m                 \u001b[0mtest_mse\u001b[0m\u001b[0;34m.\u001b[0m\u001b[0mappend\u001b[0m\u001b[0;34m(\u001b[0m\u001b[0mnp\u001b[0m\u001b[0;34m.\u001b[0m\u001b[0mmean\u001b[0m\u001b[0;34m(\u001b[0m\u001b[0;34m(\u001b[0m\u001b[0mfold_ratings\u001b[0m \u001b[0;34m-\u001b[0m \u001b[0mnp\u001b[0m\u001b[0;34m.\u001b[0m\u001b[0mmatmul\u001b[0m\u001b[0;34m(\u001b[0m\u001b[0mW\u001b[0m\u001b[0;34m,\u001b[0m\u001b[0mH\u001b[0m\u001b[0;34m)\u001b[0m\u001b[0;34m)\u001b[0m\u001b[0;34m**\u001b[0m\u001b[0;36m2\u001b[0m\u001b[0;34m)\u001b[0m\u001b[0;34m)\u001b[0m\u001b[0;34m\u001b[0m\u001b[0;34m\u001b[0m\u001b[0m\n\u001b[0m\u001b[1;32m     42\u001b[0m \u001b[0;34m\u001b[0m\u001b[0m\n\u001b[1;32m     43\u001b[0m             \u001b[0;31m# Take average of mse from all folds\u001b[0m\u001b[0;34m\u001b[0m\u001b[0;34m\u001b[0m\u001b[0;34m\u001b[0m\u001b[0m\n",
      "\u001b[0;31mValueError\u001b[0m: operands could not be broadcast together with shapes (943,1129) (943,1680) "
     ]
    }
   ],
   "source": [
    "k = [10, 20]\n",
    "lr = [0.01, 0.1, 0.2]\n",
    "lamdas = [0.01, 0.001]\n",
    "iterations = 200\n",
    "\n",
    "best_params = {}\n",
    "best_params['k'] = k[0]\n",
    "best_params['lr'] = lr[0]\n",
    "best_params['lamda'] = lamdas[0]\n",
    "best_params['test_mse'] = np.inf\n",
    "\n",
    "for latent in k:  \n",
    "        for lamda in lamdas:\n",
    "            ## Doing 5-fold validation\n",
    "            test_mse = []\n",
    "            for i in ['a','b']:\n",
    "                filename = \"u\"+i+\".base\"\n",
    "                \n",
    "                # Load dataset\n",
    "                cols = ['user_id', 'movie_id', 'rating', 'timestamp']\n",
    "                fold = pd.read_csv(\"movie_rating/\" +filename, sep='\\t')\n",
    "                fold.columns = cols\n",
    "                \n",
    "                fold_ratings = preprocess(fold)\n",
    "                \n",
    "            \n",
    "                model = NMF(n_components=latent, init='random', alpha=lamda, max_iter=10)\n",
    "                W = model.fit_transform(fold_ratings)\n",
    "                H = model.components_\n",
    "            \n",
    "                filename = \"u\"+i+\".test\"\n",
    "                # Load dataset\n",
    "                cols = ['user_id', 'movie_id', 'rating', 'timestamp']\n",
    "                fold = pd.read_csv(\"movie_rating/\" +filename, sep='\\t')\n",
    "                fold.columns = cols\n",
    "                \n",
    "                fold_ratings = preprocess(fold)\n",
    "            \n",
    "            \n",
    "                # compute mse on test set\n",
    "                test_mse.append(np.mean((fold_ratings - np.matmul(W,H))**2))\n",
    "                \n",
    "            # Take average of mse from all folds\n",
    "            test_mse = np.mean(test_mse)\n",
    "            \n",
    "            if test_mse < best_params['test_mse']:\n",
    "                best_params['k'] = latent\n",
    "                best_params['test_mse'] = test_mse\n",
    "                best_params['lamda'] = lamda\n",
    "\n",
    "                print(\"test_mse\", best_params['test_mse'])"
   ]
  },
  {
   "cell_type": "code",
   "execution_count": null,
   "id": "f4b7464d",
   "metadata": {},
   "outputs": [],
   "source": []
  }
 ],
 "metadata": {
  "kernelspec": {
   "display_name": "Python [conda env:js_env]",
   "language": "python",
   "name": "conda-env-js_env-py"
  },
  "language_info": {
   "codemirror_mode": {
    "name": "ipython",
    "version": 3
   },
   "file_extension": ".py",
   "mimetype": "text/x-python",
   "name": "python",
   "nbconvert_exporter": "python",
   "pygments_lexer": "ipython3",
   "version": "3.8.5"
  }
 },
 "nbformat": 4,
 "nbformat_minor": 5
}
