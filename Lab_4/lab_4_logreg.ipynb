{
 "cells": [
  {
   "cell_type": "markdown",
   "id": "363d1594",
   "metadata": {},
   "source": [
    "### Exercise 0: Dataset preprocessing"
   ]
  },
  {
   "cell_type": "markdown",
   "id": "81881285",
   "metadata": {},
   "source": [
    "#### Convert any non-numeric values to numeric\n",
    "The dataset has 'x','b','o' character strings. These characters are replaces by numbers. 'b' blank is replaced by 0, 'x' first player is replaced by 1 and 'o' second player is replaced by 2. "
   ]
  },
  {
   "cell_type": "code",
   "execution_count": 387,
   "id": "e9a1b0dd",
   "metadata": {},
   "outputs": [],
   "source": [
    "import pandas as pd\n",
    "import numpy as np\n",
    "import csv\n",
    "import matplotlib.pyplot as plt\n",
    "import seaborn as sns"
   ]
  },
  {
   "cell_type": "code",
   "execution_count": 305,
   "id": "25e7dbf7",
   "metadata": {},
   "outputs": [],
   "source": [
    "### Load the data into pandas Dataframe\n",
    "\n",
    "tic_df = pd.read_csv(\"tic-tac-toe.data\", sep=\",\", header=None)"
   ]
  },
  {
   "cell_type": "code",
   "execution_count": 306,
   "id": "34cba4b2",
   "metadata": {},
   "outputs": [],
   "source": [
    "tic_df.columns = ['tls','tms','trs','mls','mms','mrs','bls','bms','brs','target']\n",
    "cols = tic_df.columns"
   ]
  },
  {
   "cell_type": "code",
   "execution_count": 311,
   "id": "cb45aef8",
   "metadata": {},
   "outputs": [],
   "source": [
    "## Covert character type to numeric type\n",
    "tic_df['tls'].replace(to_replace=['b', 'x', 'o'], value=[0, 1, 2], inplace=True)\n",
    "tic_df['tms'].replace(to_replace=['b', 'x', 'o'], value=[0, 1, 2], inplace=True)\n",
    "tic_df['trs'].replace(to_replace=['b', 'x', 'o'], value=[0, 1, 2], inplace=True)\n",
    "tic_df['mls'].replace(to_replace=['b', 'x', 'o'], value=[0, 1, 2], inplace=True)\n",
    "tic_df['mms'].replace(to_replace=['b', 'x', 'o'], value=[0, 1, 2], inplace=True)\n",
    "tic_df['mrs'].replace(to_replace=['b', 'x', 'o'], value=[0, 1, 2], inplace=True)\n",
    "tic_df['bls'].replace(to_replace=['b', 'x', 'o'], value=[0, 1, 2], inplace=True)\n",
    "tic_df['bms'].replace(to_replace=['b', 'x', 'o'], value=[0, 1, 2], inplace=True)\n",
    "tic_df['brs'].replace(to_replace=['b', 'x', 'o'], value=[0, 1, 2], inplace=True)"
   ]
  },
  {
   "cell_type": "code",
   "execution_count": 312,
   "id": "efec9a5a",
   "metadata": {},
   "outputs": [],
   "source": [
    "tic_df['target'].replace(to_replace=['positive','negative'], value=[ 1, 0], inplace=True)"
   ]
  },
  {
   "cell_type": "code",
   "execution_count": 314,
   "id": "3f60cfdb",
   "metadata": {},
   "outputs": [],
   "source": [
    "tic_df_pos = tic_df[tic_df['target'] == 1]"
   ]
  },
  {
   "cell_type": "code",
   "execution_count": 315,
   "id": "bebaaecb",
   "metadata": {},
   "outputs": [
    {
     "data": {
      "text/plain": [
       "(626, 10)"
      ]
     },
     "execution_count": 315,
     "metadata": {},
     "output_type": "execute_result"
    }
   ],
   "source": [
    "tic_df_pos.shape"
   ]
  },
  {
   "cell_type": "code",
   "execution_count": 316,
   "id": "dc7b2709",
   "metadata": {},
   "outputs": [],
   "source": [
    "tic_df_neg = tic_df[tic_df['target'] == 0]"
   ]
  },
  {
   "cell_type": "code",
   "execution_count": 317,
   "id": "bf270438",
   "metadata": {},
   "outputs": [
    {
     "data": {
      "text/plain": [
       "(332, 10)"
      ]
     },
     "execution_count": 317,
     "metadata": {},
     "output_type": "execute_result"
    }
   ],
   "source": [
    "tic_df_neg.shape"
   ]
  },
  {
   "cell_type": "markdown",
   "id": "dac43029",
   "metadata": {},
   "source": [
    "**Dataset is unbalanced, we have got 626 instances for positive category, while only 332 instances for negative\n",
    "category.** Fraction of positive instances = 626/958 = 0.65. Fraction of negative instances = 332/958 = 0.35\n",
    "\n",
    "### Stratified Sampling"
   ]
  },
  {
   "cell_type": "code",
   "execution_count": 318,
   "id": "126a8bf8",
   "metadata": {},
   "outputs": [],
   "source": [
    "def strata_sampling(tic_df):\n",
    "    '''\n",
    "    Implementation of stratified sampling\n",
    "    We need 80% (766) of the samples in train set, 20% (192) in test set.\n",
    "    '''\n",
    "    train_df = tic_df.groupby('target', group_keys=False).apply(lambda x: x.sample(frac=0.8))\n",
    "    test_df = tic_df.groupby('target', group_keys=False).apply(lambda x: x.sample(frac=0.2))\n",
    "    \n",
    "    return (train_df, test_df)"
   ]
  },
  {
   "cell_type": "code",
   "execution_count": 319,
   "id": "fe7994c2",
   "metadata": {},
   "outputs": [],
   "source": [
    "## stratified sampling\n",
    "'''\n",
    "split = StratifiedShuffleSplit(n_splits=1, test_size=0.2, random_state=42)\n",
    "\n",
    "for train_index, test_index in split.split(tic_df, tic_df[\"target\"]):\n",
    "    strat_train_x = tic_df.loc[train_index]\n",
    "    strat_test_x = tic_df.loc[test_index]\n",
    "'''\n",
    "\n",
    "def prep_data(train_df, test_df):\n",
    "    '''\n",
    "    Preparing train and tests for logistic regression algorithm\n",
    "    '''\n",
    "    \n",
    "    train_y = train_df['target']\n",
    "    train_df.drop('target', axis=1, inplace=True)\n",
    "\n",
    "    test_y = test_df['target']\n",
    "    test_df.drop('target', axis=1, inplace=True)\n",
    "\n",
    "    X = train_df.to_numpy()\n",
    "    Y = train_y.to_numpy()\n",
    "\n",
    "    Y = np.atleast_2d(Y).T\n",
    "\n",
    "    X_test = test_df.to_numpy()\n",
    "    Y_test = test_y.to_numpy()\n",
    "\n",
    "    Y_test = np.atleast_2d(Y_test).T\n",
    "\n",
    "    X = np.hstack((np.atleast_2d(np.ones(len(X))).T, X))\n",
    "    X_test = np.hstack((np.atleast_2d(np.ones(len(X_test))).T, X_test))\n",
    "    \n",
    "    return (X,Y,X_test,Y_test)"
   ]
  },
  {
   "cell_type": "code",
   "execution_count": 320,
   "id": "0545f015",
   "metadata": {},
   "outputs": [],
   "source": [
    "## Execute the functions\n",
    "\n",
    "(train_df, test_df) = strata_sampling(tic_df)\n",
    "(X,Y,X_test,Y_test) = prep_data(train_df, test_df)"
   ]
  },
  {
   "cell_type": "markdown",
   "id": "5b76a72a",
   "metadata": {},
   "source": [
    "### Exercise 1 : Logistic Regression with Gradient Ascent "
   ]
  },
  {
   "cell_type": "code",
   "execution_count": 379,
   "id": "846d053a",
   "metadata": {},
   "outputs": [],
   "source": [
    "def learn_logreg_GA(X, Y, X_test, Y_test, step, tmax, params):\n",
    "    '''\n",
    "    Implementation of logistic regression with gradient ascent algorithm\n",
    "    '''\n",
    "    train_diffs = []\n",
    "    test_losses = []\n",
    "    track_steps = [step]\n",
    "    \n",
    "    prev_train_loss = np.sum(np.matmul(Y.T,np.matmul(X,params)) - np.log(1+np.exp(np.matmul(X,params))))\n",
    "    \n",
    "    for i in range(tmax):\n",
    "        interm_val = np.matmul(X,params)\n",
    "        Y_hat = 1/(1+np.exp(-interm_val))\n",
    "        \n",
    "        gradient = np.matmul(X.T, (Y - Y_hat))\n",
    "        \n",
    "        # Update params\n",
    "        params = params + step*gradient\n",
    "        \n",
    "        # Computing loss after updating params\n",
    "        train_loss = np.sum(np.matmul(Y.T,np.matmul(X,params)) - np.log(1+np.exp(np.matmul(X,params))))\n",
    "        \n",
    "        diff = np.abs(train_loss - prev_train_loss)\n",
    "        train_diffs.append(diff)\n",
    "    \n",
    "        # BOLDDRIVER LOGIC : ADAPTING STEP According to the loss value\n",
    "        if(train_loss > prev_train_loss):\n",
    "            step = step/2\n",
    "        else:\n",
    "            step = step*1.05\n",
    "        \n",
    "        prev_train_loss = train_loss\n",
    "            \n",
    "        ## Logloss in test set\n",
    "        \n",
    "        test_loss = np.sum(np.matmul(Y_test.T,np.matmul(X_test,params)) - np.log(1+np.exp(np.matmul(X_test,params))))\n",
    "        \n",
    "        test_losses.append(test_loss)\n",
    "        print(step)\n",
    "    \n",
    "    print(test_loss)\n",
    "    return (train_diffs, test_losses, track_steps)"
   ]
  },
  {
   "cell_type": "code",
   "execution_count": 380,
   "id": "e214c4c0",
   "metadata": {},
   "outputs": [],
   "source": [
    "# length of parameter vector\n",
    "num_param = len(X[0])\n",
    "\n",
    "# initializing parameter vector\n",
    "params = np.zeros((num_param,1))\n",
    "\n",
    "# Intializing steplength: alpha\n",
    "step = 0.1\n",
    "\n",
    "# Initializing imax\n",
    "tmax = 300"
   ]
  },
  {
   "cell_type": "markdown",
   "id": "0e463fd8",
   "metadata": {},
   "source": [
    "**Changing value of steplength with every iteration**"
   ]
  },
  {
   "cell_type": "code",
   "execution_count": 381,
   "id": "e3bc74d5",
   "metadata": {},
   "outputs": [
    {
     "name": "stdout",
     "output_type": "stream",
     "text": [
      "0.05\n",
      "0.052500000000000005\n",
      "0.026250000000000002\n",
      "0.027562500000000004\n",
      "0.028940625000000005\n",
      "0.030387656250000006\n",
      "0.015193828125000003\n",
      "0.015953519531250005\n",
      "0.016751195507812507\n",
      "0.017588755283203132\n",
      "0.008794377641601566\n",
      "0.009234096523681646\n",
      "0.009695801349865729\n",
      "0.004847900674932864\n",
      "0.005090295708679508\n",
      "0.005344810494113484\n",
      "0.005612051018819158\n",
      "0.005892653569760116\n",
      "0.006187286248248122\n",
      "0.006496650560660528\n",
      "0.006821483088693555\n",
      "0.007162557243128233\n",
      "0.007520685105284645\n",
      "0.007896719360548877\n",
      "0.008291555328576321\n",
      "0.008706133095005139\n",
      "0.009141439749755396\n",
      "0.009598511737243166\n",
      "0.010078437324105325\n",
      "0.010582359190310591\n",
      "0.005291179595155296\n",
      "0.005555738574913061\n",
      "0.0027778692874565305\n",
      "0.0029167627518293573\n",
      "0.003062600889420825\n",
      "0.0032157309338918666\n",
      "0.0016078654669459333\n",
      "0.0016882587402932301\n",
      "0.0017726716773078918\n",
      "0.0008863358386539459\n",
      "0.0009306526305866433\n",
      "0.0009771852621159754\n",
      "0.0010260445252217743\n",
      "0.001077346751482863\n",
      "0.001131214089057006\n",
      "0.0011877747935098565\n",
      "0.0012471635331853493\n",
      "0.0013095217098446168\n",
      "0.0013749977953368478\n",
      "0.0014437476851036901\n",
      "0.0015159350693588747\n",
      "0.0015917318228268185\n",
      "0.0016713184139681594\n",
      "0.0017548843346665674\n",
      "0.0018426285513998958\n",
      "0.0019347599789698907\n",
      "0.0020314979779183853\n",
      "0.0021330728768143045\n",
      "0.00223972652065502\n",
      "0.0023517128466877713\n",
      "0.00246929848902216\n",
      "0.0025927634134732683\n",
      "0.0012963817067366342\n",
      "0.001361200792073466\n",
      "0.000680600396036733\n",
      "0.0007146304158385697\n",
      "0.00035731520791928485\n",
      "0.0003751809683152491\n",
      "0.00039394001673101155\n",
      "0.00041363701756756216\n",
      "0.00043431886844594027\n",
      "0.0004560348118682373\n",
      "0.0004788365524616492\n",
      "0.0005027783800847316\n",
      "0.0005279172990889683\n",
      "0.0005543131640434167\n",
      "0.0005820288222455875\n",
      "0.000611130263357867\n",
      "0.0006416867765257604\n",
      "0.0006737711153520484\n",
      "0.0007074596711196509\n",
      "0.0007428326546756334\n",
      "0.0007799742874094151\n",
      "0.0008189730017798859\n",
      "0.0008599216518688802\n",
      "0.0009029177344623242\n",
      "0.0009480636211854405\n",
      "0.0009954668022447125\n",
      "0.001045240142356948\n",
      "0.0010975021494747956\n",
      "0.0011523772569485354\n",
      "0.0012099961197959623\n",
      "0.0012704959257857605\n",
      "0.0013340207220750486\n",
      "0.0014007217581788012\n",
      "0.0014707578460877414\n",
      "0.0015442957383921285\n",
      "0.001621510525311735\n",
      "0.0017025860515773217\n",
      "0.001787715354156188\n",
      "0.0018771011218639974\n",
      "0.0019709561779571974\n",
      "0.002069503986855057\n",
      "0.00217297918619781\n",
      "0.0022816281455077005\n",
      "0.0023957095527830856\n",
      "0.00251549503042224\n",
      "0.002641269781943352\n",
      "0.0027733332710405197\n",
      "0.002911999934592546\n",
      "0.0030575999313221733\n",
      "0.0032104799278882823\n",
      "0.0033710039242826964\n",
      "0.0035395541204968316\n",
      "0.0037165318265216735\n",
      "0.003902358417847757\n",
      "0.004097476338740145\n",
      "0.0043023501556771525\n",
      "0.00451746766346101\n",
      "0.00474334104663406\n",
      "0.004980508098965763\n",
      "0.0024902540494828817\n",
      "0.002614766751957026\n",
      "0.001307383375978513\n",
      "0.0013727525447774387\n",
      "0.0006863762723887194\n",
      "0.0007206950860081554\n",
      "0.0003603475430040777\n",
      "0.0003783649201542816\n",
      "0.0003972831661619957\n",
      "0.00041714732447009547\n",
      "0.00043800469069360027\n",
      "0.0004599049252282803\n",
      "0.0004829001714896943\n",
      "0.0005070451800641791\n",
      "0.000532397439067388\n",
      "0.0005590173110207574\n",
      "0.0005869681765717953\n",
      "0.0006163165854003851\n",
      "0.0006471324146704044\n",
      "0.0006794890354039246\n",
      "0.0007134634871741208\n",
      "0.0007491366615328269\n",
      "0.0007865934946094682\n",
      "0.0008259231693399417\n",
      "0.0008672193278069388\n",
      "0.0009105802941972858\n",
      "0.0009561093089071501\n",
      "0.0010039147743525077\n",
      "0.0010541105130701333\n",
      "0.00110681603872364\n",
      "0.001162156840659822\n",
      "0.0012202646826928133\n",
      "0.001281277916827454\n",
      "0.0013453418126688267\n",
      "0.0014126089033022681\n",
      "0.0014832393484673816\n",
      "0.0015574013158907508\n",
      "0.0016352713816852884\n",
      "0.0017170349507695528\n",
      "0.0018028866983080306\n",
      "0.0018930310332234321\n",
      "0.001987682584884604\n",
      "0.0020870667141288345\n",
      "0.0021914200498352764\n",
      "0.0023009910523270403\n",
      "0.0024160406049433926\n",
      "0.0025368426351905626\n",
      "0.0026636847669500906\n",
      "0.0027968690052975953\n",
      "0.002936712455562475\n",
      "0.003083548078340599\n",
      "0.003237725482257629\n",
      "0.003399611756370511\n",
      "0.0035695923441890366\n",
      "0.0037480719613984886\n",
      "0.003935475559468413\n",
      "0.004132249337441834\n",
      "0.0043388618043139265\n",
      "0.0021694309021569633\n",
      "0.0022779024472648116\n",
      "0.0011389512236324058\n",
      "0.0011958987848140262\n",
      "0.0005979493924070131\n",
      "0.0006278468620273638\n",
      "0.0003139234310136819\n",
      "0.00032961960256436604\n",
      "0.00034610058269258435\n",
      "0.0003634056118272136\n",
      "0.0003815758924185743\n",
      "0.00040065468703950305\n",
      "0.00042068742139147824\n",
      "0.0004417217924610522\n",
      "0.0004638078820841048\n",
      "0.00048699827618831006\n",
      "0.0005113481899977256\n",
      "0.0005369155994976118\n",
      "0.0005637613794724925\n",
      "0.0005919494484461171\n",
      "0.0006215469208684229\n",
      "0.0006526242669118441\n",
      "0.0006852554802574363\n",
      "0.0007195182542703082\n",
      "0.0007554941669838237\n",
      "0.0007932688753330149\n",
      "0.0008329323190996657\n",
      "0.000874578935054649\n",
      "0.0009183078818073815\n",
      "0.0009642232758977507\n",
      "0.0010124344396926382\n",
      "0.0010630561616772703\n",
      "0.0011162089697611339\n",
      "0.0011720194182491905\n",
      "0.0012306203891616501\n",
      "0.0012921514086197327\n",
      "0.0013567589790507194\n",
      "0.0014245969280032554\n",
      "0.0014958267744034181\n",
      "0.001570618113123589\n",
      "0.0016491490187797685\n",
      "0.001731606469718757\n",
      "0.001818186793204695\n",
      "0.0019090961328649297\n",
      "0.002004550939508176\n",
      "0.002104778486483585\n",
      "0.0022100174108077644\n",
      "0.002320518281348153\n",
      "0.0024365441954155606\n",
      "0.0025583714051863387\n",
      "0.002686289975445656\n",
      "0.0028206044742179388\n",
      "0.0029616346979288357\n",
      "0.0031097164328252776\n",
      "0.0032652022544665416\n",
      "0.003428462367189869\n",
      "0.0035998854855493626\n",
      "0.0037798797598268307\n",
      "0.003968873747818172\n",
      "0.004167317435209081\n",
      "0.0020836587176045404\n",
      "0.0021878416534847674\n",
      "0.0010939208267423837\n",
      "0.001148616868079503\n",
      "0.0005743084340397515\n",
      "0.000603023855741739\n",
      "0.0003015119278708695\n",
      "0.000316587524264413\n",
      "0.00033241690047763363\n",
      "0.00034903774550151535\n",
      "0.0003664896327765911\n",
      "0.0003848141144154207\n",
      "0.00040405482013619175\n",
      "0.00042425756114300136\n",
      "0.00044547043920015146\n",
      "0.00046774396116015907\n",
      "0.0004911311592181671\n",
      "0.0005156877171790755\n",
      "0.0005414721030380293\n",
      "0.0005685457081899308\n",
      "0.0005969729935994273\n",
      "0.0006268216432793987\n",
      "0.0006581627254433687\n",
      "0.0006910708617155372\n",
      "0.000725624404801314\n",
      "0.0007619056250413798\n",
      "0.0008000009062934487\n",
      "0.0008400009516081212\n",
      "0.0008820009991885274\n",
      "0.0009261010491479537\n",
      "0.0009724061016053515\n",
      "0.0010210264066856192\n",
      "0.0010720777270199003\n",
      "0.0011256816133708954\n",
      "0.0011819656940394402\n",
      "0.0012410639787414123\n",
      "0.001303117177678483\n",
      "0.0013682730365624071\n",
      "0.0014366866883905275\n",
      "0.0015085210228100538\n",
      "0.0015839470739505567\n",
      "0.0016631444276480846\n",
      "0.0017463016490304889\n",
      "0.0018336167314820134\n",
      "0.0019252975680561142\n",
      "0.00202156244645892\n",
      "0.002122640568781866\n",
      "0.0022287725972209593\n",
      "0.0023402112270820073\n",
      "0.002457221788436108\n",
      "0.0025800828778579136\n",
      "0.0027090870217508093\n",
      "0.00284454137283835\n",
      "0.0029867684414802676\n",
      "0.003136106863554281\n",
      "0.003292912206731995\n",
      "0.003457557817068595\n",
      "0.003630435707922025\n",
      "0.0038119574933181263\n",
      "0.004002555367984033\n",
      "0.004202683136383234\n",
      "25641.109722989804\n"
     ]
    }
   ],
   "source": [
    "(train_diffs, test_losses, track_steps) = learn_logreg_GA(X, Y, X_test, Y_test, step, tmax, params) "
   ]
  },
  {
   "cell_type": "code",
   "execution_count": 324,
   "id": "d9b1f0c3",
   "metadata": {},
   "outputs": [
    {
     "data": {
      "image/png": "[encoded data removed]",
      "text/plain": [
       "<Figure size 432x288 with 1 Axes>"
      ]
     },
     "metadata": {
      "needs_background": "light"
     },
     "output_type": "display_data"
    }
   ],
   "source": [
    "plt.plot(train_diffs)\n",
    "plt.xlabel(\"no of iterations\")\n",
    "plt.ylabel(\"difference in train losses\")\n",
    "plt.title(\"train diff plot for hyperparameters: \"+str(step)+\", \"+str(tmax))\n",
    "plt.show()"
   ]
  },
  {
   "cell_type": "code",
   "execution_count": 325,
   "id": "ffe13ae6",
   "metadata": {},
   "outputs": [
    {
     "data": {
      "image/png": "[encoded data removed]",
      "text/plain": [
       "<Figure size 432x288 with 1 Axes>"
      ]
     },
     "metadata": {
      "needs_background": "light"
     },
     "output_type": "display_data"
    }
   ],
   "source": [
    "plt.plot(test_losses)\n",
    "plt.xlabel(\"no of iterations\")\n",
    "plt.ylabel(\"logloss on test set\")\n",
    "plt.title(\"rmse plot on test set for hyperparameters: \"+str(step)+\", \"+str(tmax))\n",
    "plt.show()"
   ]
  },
  {
   "cell_type": "markdown",
   "id": "33d23d1d",
   "metadata": {},
   "source": [
    "### Exercise 2: Implement Newton Algorithm for Logistic Regression"
   ]
  },
  {
   "cell_type": "code",
   "execution_count": 382,
   "id": "b2cb6b9a",
   "metadata": {},
   "outputs": [],
   "source": [
    "def learn_logreg_newton(X, Y, X_test, Y_test, step, tmax, params):\n",
    "    '''\n",
    "    Implementation of logistic regression with Newton algorithm\n",
    "    '''\n",
    "    \n",
    "    train_diffs = []\n",
    "    test_losses = []\n",
    "\n",
    "    \n",
    "    prev_train_loss = np.sum(np.matmul(Y.T,np.matmul(X,params)) - np.log(1+np.exp(np.matmul(X,params))))\n",
    "    \n",
    "    for i in range(tmax):\n",
    "        interm_val = np.matmul(X,params)\n",
    "        Y_hat = 1/(1+np.exp(-interm_val))\n",
    "        \n",
    "        gradient = np.matmul(X.T, (Y - Y_hat))\n",
    "        \n",
    "        #Compute Hessian \n",
    "        W = np.diagflat(interm_val * (1-interm_val))\n",
    "        hessian = -np.matmul(X.T, np.matmul(W,X) )\n",
    "        \n",
    "        # Update params\n",
    "        params = params + step*np.matmul(np.linalg.inv(hessian), gradient)\n",
    "        \n",
    "        \n",
    "        # Computing loss after updating params\n",
    "        train_loss = np.sum(np.matmul(Y.T,np.matmul(X,params)) - np.log(1+np.exp(np.matmul(X,params))))\n",
    "        \n",
    "        diff = np.abs(train_loss - prev_train_loss)\n",
    "        train_diffs.append(diff)\n",
    "        \n",
    "        # BOLDDRIVER LOGIC : ADAPTING STEP According to the loss value\n",
    "        if(train_loss > prev_train_loss):\n",
    "            step = step/2\n",
    "        else:\n",
    "            step = step*1.05\n",
    "        \n",
    "        prev_train_loss = train_loss\n",
    "            \n",
    "        ## Logloss in test set\n",
    "        \n",
    "        test_loss = np.sum(np.matmul(Y_test.T,np.matmul(X_test,params)) - np.log(1+np.exp(np.matmul(X_test,params))))\n",
    "        \n",
    "        test_losses.append(test_loss)\n",
    "        print(step)\n",
    "        \n",
    "    print(\"logloss on test set in last iteration::\", test_loss)\n",
    "    return (train_diffs, test_losses)"
   ]
  },
  {
   "cell_type": "code",
   "execution_count": 383,
   "id": "df79fef0",
   "metadata": {},
   "outputs": [],
   "source": [
    "# length of parameter vector\n",
    "num_param = len(X[0])\n",
    "\n",
    "# initializing parameter vector\n",
    "params = np.ones((num_param,1))\n",
    "\n",
    "# Intializing steplength: alpha\n",
    "step = 0.5\n",
    "\n",
    "# Initializing imax\n",
    "tmax = 122"
   ]
  },
  {
   "cell_type": "markdown",
   "id": "07bb81c9",
   "metadata": {},
   "source": [
    "**\"The changing values of steplength with every iteration::**"
   ]
  },
  {
   "cell_type": "code",
   "execution_count": 384,
   "id": "e2fd407a",
   "metadata": {},
   "outputs": [
    {
     "name": "stdout",
     "output_type": "stream",
     "text": [
      "0.525\n",
      "0.55125\n",
      "0.5788125000000001\n",
      "0.6077531250000001\n",
      "0.6381407812500002\n",
      "0.6700478203125002\n",
      "0.7035502113281252\n",
      "0.7387277218945315\n",
      "0.7756641079892581\n",
      "0.814447313388721\n",
      "0.8551696790581571\n",
      "0.897928163011065\n",
      "0.9428245711616183\n",
      "0.9899657997196993\n",
      "1.0394640897056844\n",
      "1.0914372941909687\n",
      "1.1460091589005172\n",
      "1.203309616845543\n",
      "1.2634750976878202\n",
      "1.3266488525722113\n",
      "1.392981295200822\n",
      "1.4626303599608632\n",
      "1.5357618779589064\n",
      "1.612549971856852\n",
      "1.6931774704496945\n",
      "1.7778363439721792\n",
      "1.8667281611707882\n",
      "1.9600645692293277\n",
      "2.058067797690794\n",
      "2.160971187575334\n",
      "2.269019746954101\n",
      "2.382470734301806\n",
      "2.5015942710168964\n",
      "2.6266739845677414\n",
      "2.7580076837961287\n",
      "2.8959080679859355\n",
      "3.0407034713852323\n",
      "3.192738644954494\n",
      "3.352375577202219\n",
      "3.51999435606233\n",
      "3.6959940738654464\n",
      "3.880793777558719\n",
      "4.0748334664366554\n",
      "4.278575139758488\n",
      "4.492503896746413\n",
      "4.717129091583734\n",
      "4.952985546162921\n",
      "5.200634823471067\n",
      "5.460666564644621\n",
      "5.733699892876852\n",
      "6.020384887520695\n",
      "6.32140413189673\n",
      "6.637474338491567\n",
      "6.9693480554161455\n",
      "7.317815458186953\n",
      "7.683706231096301\n",
      "8.067891542651116\n",
      "8.471286119783672\n",
      "8.894850425772855\n",
      "9.3395929470615\n",
      "9.806572594414574\n",
      "10.296901224135302\n",
      "10.811746285342068\n",
      "11.352333599609171\n",
      "11.91995027958963\n",
      "12.515947793569111\n",
      "13.141745183247568\n",
      "13.798832442409948\n",
      "14.488774064530446\n",
      "15.21321276775697\n",
      "15.973873406144818\n",
      "16.77256707645206\n",
      "17.611195430274662\n",
      "18.491755201788397\n",
      "19.416342961877817\n",
      "20.38716010997171\n",
      "21.406518115470295\n",
      "22.47684402124381\n",
      "23.600686222306003\n",
      "24.780720533421302\n",
      "26.019756560092368\n",
      "27.320744388096987\n",
      "28.68678160750184\n",
      "30.12112068787693\n",
      "31.62717672227078\n",
      "33.20853555838432\n",
      "34.86896233630354\n",
      "36.61241045311872\n",
      "38.443030975774654\n",
      "40.36518252456339\n",
      "42.38344165079156\n",
      "44.50261373333114\n",
      "46.7277444199977\n",
      "49.06413164099759\n",
      "51.51733822304747\n",
      "54.09320513419984\n",
      "56.797865390909834\n",
      "59.637758660455326\n",
      "62.619646593478095\n",
      "65.75062892315201\n",
      "69.03816036930961\n",
      "72.4900683877751\n",
      "76.11457180716386\n",
      "79.92030039752206\n",
      "83.91631541739817\n",
      "88.11213118826808\n",
      "92.5177377476815\n",
      "97.14362463506558\n",
      "102.00080586681887\n",
      "107.10084616015982\n",
      "53.55042308007991\n",
      "26.775211540039955\n",
      "28.113972117041953\n",
      "29.519670722894052\n",
      "30.995654259038755\n",
      "32.545436971990696\n",
      "34.17270882059023\n",
      "35.881344261619745\n",
      "37.67541147470073\n",
      "39.559182048435765\n",
      "41.53714115085756\n",
      "43.61399820840044\n",
      "logloss on test set in last iteration:: 25548.511088923515\n"
     ]
    }
   ],
   "source": [
    "(train_diffs, test_losses) = learn_logreg_newton(X, Y, X_test, Y_test, step, tmax, params) \n"
   ]
  },
  {
   "cell_type": "code",
   "execution_count": 385,
   "id": "cbe84eca",
   "metadata": {},
   "outputs": [
    {
     "data": {
      "image/png": "[encoded data removed]",
      "text/plain": [
       "<Figure size 432x288 with 1 Axes>"
      ]
     },
     "metadata": {
      "needs_background": "light"
     },
     "output_type": "display_data"
    }
   ],
   "source": [
    "plt.plot(train_diffs)\n",
    "plt.xlabel(\"no of iterations\")\n",
    "plt.ylabel(\"difference in train losses\")\n",
    "plt.title(\"train diff plot for hyperparameters: \"+str(step)+\", \"+str(tmax))\n",
    "plt.show()"
   ]
  },
  {
   "cell_type": "code",
   "execution_count": 386,
   "id": "6d8a4908",
   "metadata": {},
   "outputs": [
    {
     "data": {
      "image/png": "[encoded data removed]",
      "text/plain": [
       "<Figure size 432x288 with 1 Axes>"
      ]
     },
     "metadata": {
      "needs_background": "light"
     },
     "output_type": "display_data"
    }
   ],
   "source": [
    "plt.plot(test_losses)\n",
    "plt.xlabel(\"no of iterations\")\n",
    "plt.ylabel(\"logloss on test set\")\n",
    "plt.title(\"rmse plot on test set for hyperparameters: \"+str(step)+\", \"+str(tmax))\n",
    "plt.show()"
   ]
  },
  {
   "cell_type": "markdown",
   "id": "884def31",
   "metadata": {},
   "source": [
    "#### Comment on convergence: Newton's algorithm converges with increasing steplength with every iteration. While, with gradient ascent, we used learning rate decreases with every iteration."
   ]
  },
  {
   "cell_type": "code",
   "execution_count": null,
   "id": "0374d249",
   "metadata": {},
   "outputs": [],
   "source": []
  }
 ],
 "metadata": {
  "kernelspec": {
   "display_name": "Python 3",
   "language": "python",
   "name": "python3"
  },
  "language_info": {
   "codemirror_mode": {
    "name": "ipython",
    "version": 3
   },
   "file_extension": ".py",
   "mimetype": "text/x-python",
   "name": "python",
   "nbconvert_exporter": "python",
   "pygments_lexer": "ipython3",
   "version": "3.8.8"
  }
 },
 "nbformat": 4,
 "nbformat_minor": 5
}
