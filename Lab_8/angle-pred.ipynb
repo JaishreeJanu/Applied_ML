{
 "cells": [
  {
   "cell_type": "code",
   "execution_count": 1,
   "metadata": {
    "_cell_guid": "b1076dfc-b9ad-4769-8c92-a6c4dae69d19",
    "_uuid": "8f2839f25d086af736a60e9eeb907d3b93b6e0e5",
    "execution": {
     "iopub.execute_input": "2022-01-14T21:40:34.392790Z",
     "iopub.status.busy": "2022-01-14T21:40:34.392403Z",
     "iopub.status.idle": "2022-01-14T21:41:22.591261Z",
     "shell.execute_reply": "2022-01-14T21:41:22.590642Z",
     "shell.execute_reply.started": "2022-01-14T21:40:34.392691Z"
    }
   },
   "outputs": [],
   "source": [
    "# This Python 3 environment comes with many helpful analytics libraries installed\n",
    "# It is defined by the kaggle/python Docker image: https://github.com/kaggle/docker-python\n",
    "# For example, here's several helpful packages to load\n",
    "\n",
    "import numpy as np # linear algebra\n",
    "import pandas as pd # data processing, CSV file I/O (e.g. pd.read_csv)\n",
    "\n",
    "# Input data files are available in the read-only \"../input/\" directory\n",
    "# For example, running this (by clicking run or pressing Shift+Enter) will list all files under the input directory\n",
    "\n",
    "import os\n",
    "for dirname, _, filenames in os.walk('/kaggle/input'):\n",
    "    for filename in filenames:\n",
    "        print(os.path.join(dirname, filename))\n",
    "        break\n",
    "\n",
    "# You can write up to 20GB to the current directory (/kaggle/working/) that gets preserved as output when you create a version using \"Save & Run All\" \n",
    "# You can also write temporary files to /kaggle/temp/, but they won't be saved outside of the current session"
   ]
  },
  {
   "cell_type": "code",
   "execution_count": 21,
   "metadata": {
    "execution": {
     "iopub.execute_input": "2022-01-14T22:20:26.505457Z",
     "iopub.status.busy": "2022-01-14T22:20:26.505161Z",
     "iopub.status.idle": "2022-01-14T22:20:26.515800Z",
     "shell.execute_reply": "2022-01-14T22:20:26.514889Z",
     "shell.execute_reply.started": "2022-01-14T22:20:26.505428Z"
    }
   },
   "outputs": [],
   "source": [
    "from torch.utils.data import DataLoader,Dataset\n",
    "import torch\n",
    "import torch.nn as nn\n",
    "import torch.optim as optim\n",
    "import torchvision.transforms as transforms\n",
    "\n",
    "import numpy as np\n",
    "import pandas as pd\n",
    "\n",
    "from torch.utils import data\n",
    "from torch.utils.data import DataLoader\n",
    "from torch.optim.lr_scheduler import MultiStepLR\n",
    "\n",
    "import cv2\n",
    "\n",
    "class Dataset(Dataset):#Inheritsfromtorch.utils.data.Dataset\n",
    "    def __init__(self):\n",
    "        #defaultdirectorywheredataisloaded\n",
    "        self.filepath = \"/kaggle/input/car-steering-angle-prediction/driving_dataset/\"\n",
    "        self.filenames = os.listdir(self.filepath)\n",
    "        \n",
    "    def __len__(self):\n",
    "        return len(self.filenames)\n",
    "    \n",
    "    def __getitem__(self,index):\n",
    "        filename = self.filenames[index]\n",
    "        img = cv2.imread(self.filepath+filename)\n",
    "        #Resizingimagesto(32,32)\n",
    "        if img is not None:\n",
    "            resized = cv2.resize(img,(32,32),interpolation=cv2.INTER_AREA)\n",
    "            #return theimageconvertedtoanumpyarrayitscorrespondingsteeringangle\n",
    "            return torch.from_numpy(resized.transpose()).float(),torch.rand(1)"
   ]
  },
  {
   "cell_type": "code",
   "execution_count": 22,
   "metadata": {
    "execution": {
     "iopub.execute_input": "2022-01-14T22:20:29.490139Z",
     "iopub.status.busy": "2022-01-14T22:20:29.489584Z",
     "iopub.status.idle": "2022-01-14T22:20:29.500055Z",
     "shell.execute_reply": "2022-01-14T22:20:29.499160Z",
     "shell.execute_reply.started": "2022-01-14T22:20:29.490102Z"
    }
   },
   "outputs": [],
   "source": [
    "class ConvNet(torch.nn.Module):\n",
    "    def __init__(self):\n",
    "        super().__init__()\n",
    "        \n",
    "        self.conv_layers = nn.Sequential(\n",
    "            nn.Conv2d(3, 24, 5, stride=2),\n",
    "            nn.ELU(),\n",
    "            nn.Conv2d(24, 36, 5, stride=2),\n",
    "            nn.ELU(),\n",
    "            nn.Conv2d(36, 48, 5, stride=2),\n",
    "            nn.ELU(),\n",
    "            nn.Conv2d(48, 64, 1),\n",
    "            nn.ELU(),\n",
    "            nn.Conv2d(64, 64, 1),\n",
    "            nn.Dropout(0.5)\n",
    "        )\n",
    "        self.linear_layers = nn.Sequential(\n",
    "            nn.Linear(in_features=64, out_features=100),\n",
    "            nn.ELU(),\n",
    "            nn.Linear(in_features=100, out_features=50),\n",
    "            nn.ELU(),\n",
    "            nn.Linear(in_features=50, out_features=10),\n",
    "            nn.Linear(in_features=10, out_features=1)\n",
    "        )\n",
    "        \n",
    "    def forward(self,x): \n",
    "        #x = x.view(x.size(0), 3, 70, 320)\n",
    "        x = self.conv_layers(x)\n",
    "        # print(output.shape)\n",
    "        # output = output.view(output.size(0), -1)\n",
    "        x = torch.flatten(x, start_dim=1, end_dim=-1)\n",
    "        output = self.linear_layers(x)\n",
    "        \n",
    "        return output\n",
    "    "
   ]
  },
  {
   "cell_type": "code",
   "execution_count": 24,
   "metadata": {
    "execution": {
     "iopub.execute_input": "2022-01-14T22:25:20.966993Z",
     "iopub.status.busy": "2022-01-14T22:25:20.966414Z",
     "iopub.status.idle": "2022-01-14T22:32:06.557288Z",
     "shell.execute_reply": "2022-01-14T22:32:06.556352Z",
     "shell.execute_reply.started": "2022-01-14T22:25:20.966957Z"
    }
   },
   "outputs": [],
   "source": [
    "train_data = Dataset()\n",
    "\n",
    "train_dataset, test_dataset, validation_dataset = torch.utils.data.random_split(train_data, [31898, 10000, 3672])\n",
    "\n",
    "\n",
    "net=ConvNet()\n",
    "\n",
    "optimizer=torch.optim.Adam(net.parameters(),lr=1e-3)\n",
    "criterion=torch.nn.MSELoss()\n",
    "\n",
    "train_loss = 0\n",
    "iterr = 0\n",
    "for i,sample_batched in enumerate(train_dataset):\n",
    "    optimizer.zero_grad()\n",
    "    if sample_batched is not None:\n",
    "    \n",
    "        inputs, angles = sample_batched\n",
    "        inputs = inputs.unsqueeze(0)\n",
    "\n",
    "        yhat=net(inputs)\n",
    "\n",
    "        loss=criterion(yhat.squeeze(),torch.rand(1))\n",
    "\n",
    "        loss.backward()\n",
    "        optimizer.step()\n",
    "\n",
    "        train_loss += loss.item()\n",
    "        iterr = iterr + 1\n",
    "    \n",
    "print(f'Training Loss: {train_loss / iterr}')"
   ]
  },
  {
   "cell_type": "code",
   "execution_count": 25,
   "metadata": {
    "execution": {
     "iopub.execute_input": "2022-01-14T22:33:39.141009Z",
     "iopub.status.busy": "2022-01-14T22:33:39.140190Z",
     "iopub.status.idle": "2022-01-14T22:35:00.969438Z",
     "shell.execute_reply": "2022-01-14T22:35:00.968545Z",
     "shell.execute_reply.started": "2022-01-14T22:33:39.140973Z"
    }
   },
   "outputs": [],
   "source": [
    "test_loss = 0.0\n",
    "iterr = 0\n",
    "for i, sample_batched in enumerate(test_dataset):\n",
    "    \n",
    "    inputs, labels = sample_batched\n",
    "    inputs = inputs.unsqueeze(0)\n",
    "    \n",
    "    yhat = net(inputs)\n",
    "    loss = torch.sqrt(criterion(yhat.squeeze(), torch.rand(1)))\n",
    "    \n",
    "    \n",
    "    test_loss += loss.item()\n",
    "    iterr = iterr + 1\n",
    "print(f'test Loss: {test_loss / iterr}')"
   ]
  },
  {
   "cell_type": "markdown",
   "metadata": {},
   "source": [
    "## Configure search space for hyper-parameter tuning"
   ]
  },
  {
   "cell_type": "code",
   "execution_count": 27,
   "metadata": {
    "execution": {
     "iopub.execute_input": "2022-01-14T22:38:59.592044Z",
     "iopub.status.busy": "2022-01-14T22:38:59.591435Z",
     "iopub.status.idle": "2022-01-14T22:39:00.145387Z",
     "shell.execute_reply": "2022-01-14T22:39:00.144482Z",
     "shell.execute_reply.started": "2022-01-14T22:38:59.592007Z"
    }
   },
   "outputs": [],
   "source": [
    "from ray import tune\n",
    "config = {\n",
    "    \"l1\": tune.sample_from(lambda _: 2**np.random.randint(2, 9)),\n",
    "    \"l2\": tune.sample_from(lambda _: 2**np.random.randint(2, 9)),\n",
    "    \"lr\": tune.loguniform(1e-4, 1e-1),\n",
    "    \"batch_size\": tune.choice([2, 4, 8, 16])\n",
    "}"
   ]
  },
  {
   "cell_type": "code",
   "execution_count": null,
   "metadata": {},
   "outputs": [],
   "source": [
    "scheduler = ASHAScheduler(\n",
    "        metric=\"loss\",\n",
    "        mode=\"min\",\n",
    "        max_t=5,\n",
    "        grace_period=1,\n",
    "        reduction_factor=2)\n",
    "\n",
    "    reporter = CLIReporter(\n",
    "        # parameter_columns=[\"l1\", \"l2\", \"lr\", \"batch_size\"],\n",
    "        metric_columns=[\"loss\", \"accuracy\", \"training_iteration\"])\n",
    "    \n",
    "    result = tune.run(\n",
    "        partial(train_cifar, data_dir=data_dir),\n",
    "        resources_per_trial={\"cpu\": 2, \"gpu\": gpus_per_trial},\n",
    "        config=config,\n",
    "        num_samples=num_samples,\n",
    "        scheduler=scheduler,\n",
    "        progress_reporter=reporter)"
   ]
  }
 ],
 "metadata": {
  "kernelspec": {
   "display_name": "Python 3",
   "language": "python",
   "name": "python3"
  },
  "language_info": {
   "codemirror_mode": {
    "name": "ipython",
    "version": 3
   },
   "file_extension": ".py",
   "mimetype": "text/x-python",
   "name": "python",
   "nbconvert_exporter": "python",
   "pygments_lexer": "ipython3",
   "version": "3.8.8"
  }
 },
 "nbformat": 4,
 "nbformat_minor": 4
}
