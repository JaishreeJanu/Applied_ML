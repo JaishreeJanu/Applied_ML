{
 "cells": [
  {
   "cell_type": "code",
   "execution_count": 29,
   "id": "2ac0abdb",
   "metadata": {},
   "outputs": [],
   "source": [
    "import numpy as np\n",
    "import pandas as pd\n",
    "import random\n",
    "\n",
    "%matplotlib inline\n",
    "from matplotlib import pyplot as plt\n",
    "\n",
    "from sklearn import datasets\n",
    "from sklearn.neural_network import MLPClassifier\n",
    "from sklearn.model_selection import cross_val_score \n",
    "from sklearn.model_selection import RandomizedSearchCV\n",
    "from sklearn.model_selection import KFold \n",
    "from sklearn.metrics import accuracy_score"
   ]
  },
  {
   "cell_type": "markdown",
   "id": "30a9d9d2",
   "metadata": {},
   "source": [
    "## Exercise 1 : Optical Character Recognition via Neural Networks"
   ]
  },
  {
   "cell_type": "code",
   "execution_count": 4,
   "id": "8eece456",
   "metadata": {},
   "outputs": [],
   "source": [
    "# Load dataset\n",
    "data = datasets.load_digits()"
   ]
  },
  {
   "cell_type": "code",
   "execution_count": 11,
   "id": "65b1511f",
   "metadata": {},
   "outputs": [
    {
     "name": "stdout",
     "output_type": "stream",
     "text": [
      "dict_keys(['data', 'target', 'frame', 'feature_names', 'target_names', 'images', 'DESCR'])\n",
      "[0 1 2 3 4 5 6 7 8 9]\n"
     ]
    }
   ],
   "source": [
    "print(data.keys())\n",
    "print(data.target_names)"
   ]
  },
  {
   "cell_type": "code",
   "execution_count": 30,
   "id": "1c0dc73c",
   "metadata": {},
   "outputs": [],
   "source": [
    "digits = data.images.reshape((len(data.images), -1))\n",
    "digits = pd.DataFrame(digits)"
   ]
  },
  {
   "cell_type": "markdown",
   "id": "b2ce9e1f",
   "metadata": {},
   "source": [
    "**Initialize parameter space**"
   ]
  },
  {
   "cell_type": "code",
   "execution_count": 17,
   "id": "4142431f",
   "metadata": {},
   "outputs": [],
   "source": [
    "parameter_space = {\n",
    "    'hidden_layer_sizes': [(10,30,10),(20,)],\n",
    "    'activation': ['tanh', 'relu'],\n",
    "    'solver': ['sgd', 'adam', 'lbfgs'],\n",
    "    'alpha': [0.0001, 0.05],\n",
    "    'learning_rate': ['constant','adaptive']}"
   ]
  },
  {
   "cell_type": "markdown",
   "id": "34a3c760",
   "metadata": {},
   "source": [
    "1. Initialize MLPClassfier\n",
    "2. Do randomizedSearchCV for every fold.\n",
    "3. Finally, report average of test accuracies.\n",
    "4. Also print best parameters"
   ]
  },
  {
   "cell_type": "markdown",
   "id": "bdf8c7b5",
   "metadata": {},
   "source": [
    "#### Best hyperparameters and test accuracy of each fold (printed below) :"
   ]
  },
  {
   "cell_type": "code",
   "execution_count": 32,
   "id": "44281199",
   "metadata": {},
   "outputs": [
    {
     "name": "stdout",
     "output_type": "stream",
     "text": [
      "{'solver': 'lbfgs', 'learning_rate': 'constant', 'hidden_layer_sizes': (20,), 'alpha': 0.0001, 'activation': 'relu'}\n",
      "{'solver': 'adam', 'learning_rate': 'adaptive', 'hidden_layer_sizes': (20,), 'alpha': 0.0001, 'activation': 'relu'}\n",
      "{'solver': 'adam', 'learning_rate': 'adaptive', 'hidden_layer_sizes': (20,), 'alpha': 0.0001, 'activation': 'relu'}\n",
      "{'solver': 'adam', 'learning_rate': 'adaptive', 'hidden_layer_sizes': (20,), 'alpha': 0.0001, 'activation': 'relu'}\n",
      "{'solver': 'adam', 'learning_rate': 'adaptive', 'hidden_layer_sizes': (20,), 'alpha': 0.0001, 'activation': 'relu'}\n",
      "accuracy of each fold - [0.9333333333333333, 0.9027777777777778, 0.9526462395543176, 0.9415041782729805, 0.9303621169916435]\n",
      "Avg accuracy : 0.9321247291860105\n"
     ]
    }
   ],
   "source": [
    "# 5-fold validation\n",
    "k = 5\n",
    "kf = KFold(n_splits=k, random_state=None)\n",
    "acc_score = []\n",
    "\n",
    "# Initialize MLPClassifier\n",
    "mlp_clf = MLPClassifier(random_state=1, max_iter=1000)\n",
    "\n",
    "# For every fold, random search and report test accuracy\n",
    "for train_index , test_index in kf.split(digits):\n",
    "    X_train , X_test = digits.iloc[train_index,:],digits.iloc[test_index,:]\n",
    "    y_train , y_test = data.target[train_index] , data.target[test_index]\n",
    "     \n",
    "    clf = RandomizedSearchCV(mlp_clf, parameter_space, random_state=0)\n",
    "\n",
    "    model = clf.fit(X_train, y_train)\n",
    "    \n",
    "    print(model.best_params_)\n",
    "    \n",
    "    \n",
    "    pred_values = model.predict(X_test)\n",
    "     \n",
    "    acc = accuracy_score(pred_values , y_test)\n",
    "    acc_score.append(acc)\n",
    "     \n",
    "avg_acc_score = sum(acc_score)/k\n",
    " \n",
    "print('accuracy of each fold - {}'.format(acc_score))\n",
    "print('Avg accuracy : {}'.format(avg_acc_score))"
   ]
  },
  {
   "cell_type": "code",
   "execution_count": null,
   "id": "70f406a9",
   "metadata": {},
   "outputs": [],
   "source": []
  }
 ],
 "metadata": {
  "kernelspec": {
   "display_name": "Python 3",
   "language": "python",
   "name": "python3"
  },
  "language_info": {
   "codemirror_mode": {
    "name": "ipython",
    "version": 3
   },
   "file_extension": ".py",
   "mimetype": "text/x-python",
   "name": "python",
   "nbconvert_exporter": "python",
   "pygments_lexer": "ipython3",
   "version": "3.8.8"
  }
 },
 "nbformat": 4,
 "nbformat_minor": 5
}
